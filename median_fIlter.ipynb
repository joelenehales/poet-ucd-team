{
 "cells": [
  {
   "cell_type": "code",
   "execution_count": null,
   "id": "40a2df6b",
   "metadata": {},
   "outputs": [],
   "source": [
    "import matplotlib  \n",
    "import matplotlib.pyplot as plt\n",
    "from astropy.timeseries import LombScargle\n",
    "import lightkurve as lk\n",
    "import scipy\n",
    "import numpy as np"
   ]
  },
  {
   "cell_type": "markdown",
   "id": "93a37389",
   "metadata": {},
   "source": [
    "## Download light curve"
   ]
  },
  {
   "cell_type": "code",
   "execution_count": null,
   "id": "dc26fcf2",
   "metadata": {},
   "outputs": [],
   "source": [
    "## Just download a random light curve available on MAST to test things out\n",
    "obj = \"WASP-100\"\n",
    "search_result = lk.search_lightcurve(obj, radius=5) # search radius 5 arcseconds\n",
    "lc = search_result[-1].download() # downloads the most recent one (index -1, last one in table)\n",
    "\n",
    "lc = lc.remove_nans() # Remove NaN values - I think they broke the code somehow?\n",
    "time = lc.time.value\n",
    "flux = lc.flux.value\n",
    "flux_error = lc.flux_err.value\n",
    "\n",
    "## Plot light curve\n",
    "matplotlib.rcParams.update({'font.size': 16}) #Adjust font\n",
    "matplotlib.rcParams['axes.linewidth'] = 2.0\n",
    "f_lc, ax_lc = plt.subplots(figsize=(14, 5)) # Figure size (width, height)\n",
    "\n",
    "ax_lc.scatter(time,flux, c=\"k\", marker=\".\")\n",
    "ax_lc.set(xlabel = \"Time - 2457000 [BTJD days]\", ylabel = \"Flux [electrons/s]\")\n",
    "\n",
    "# Depending on the object you use, you may want to add a y-axis limit to see the\n",
    "# data better\n"
   ]
  },
  {
   "cell_type": "markdown",
   "id": "6d053464",
   "metadata": {},
   "source": [
    "## Apply median filter"
   ]
  },
  {
   "cell_type": "code",
   "execution_count": null,
   "id": "2c480cef",
   "metadata": {},
   "outputs": [],
   "source": [
    "## APPLY MEDIAN FILTER TO DATA\n",
    "med = scipy.ndimage.median_filter(np.array(flux), size = 81) # (I don't know why I converted it to an array again here but I must've had some reason lol)\n",
    "\n",
    "## Plot median filtered light curve with the data\n",
    "matplotlib.rcParams.update({'font.size': 16}) # Set up plot\n",
    "matplotlib.rcParams['axes.linewidth'] = 2.0\n",
    "f_med, ax_med = plt.subplots(figsize=(14, 5))\n",
    "\n",
    "x = np.linspace(min(time), max(time), len(med)) # x axis needs to have same number of points as y values or else it gets mad. Create a list of evenly\n",
    "# spaced values from the min. time to max. time, number of values is the number of flux values\n",
    "\n",
    "ax_med.scatter(time,flux,c=\"k\",marker=\".\", label=\"Data\")\n",
    "ax_med.plot(x,med, label=\"Median Filter\")\n",
    "\n",
    "ax_med.set_ylim(np.median(flux)-0.01,np.median(flux)+0.005) # The transit in the data makes the median filter impossible to see lol, set axis limits \n",
    "# to a little bit outside the median of the data to zoom it in\n",
    "ax_med.legend(fontsize=16,loc='lower right', framealpha=1); # Add legend"
   ]
  },
  {
   "cell_type": "markdown",
   "id": "489d3f9a",
   "metadata": {},
   "source": [
    "## Plot periodograms and find periods"
   ]
  },
  {
   "cell_type": "code",
   "execution_count": null,
   "id": "0594578f",
   "metadata": {},
   "outputs": [],
   "source": [
    "freq = np.linspace(1.0 / 40.0, 1.0 / 1.0, 5000)  # Frequency range\n",
    "## Note: denominator of first number becomes maximum period it goes to\n",
    "\n",
    "## PERIODOGRAM OF DATA\n",
    "ls = LombScargle(time, flux) # x is the time from the LC without NaNs, y is the PDCSAP flux from lightkurve\n",
    "power_ls = ls.power(freq, method=\"fast\", normalization=\"psd\")\n",
    "power_ls /= len(time)\n",
    "\n",
    "period_ls = 1.0 / freq[np.argmax(power_ls)] # Find period of data (corresponds to most significant peak)\n",
    "\n",
    "\n",
    "## PERIODOGRAM OF MEDIAN FILTERED LIGHT CURVE\n",
    "model = LombScargle(time, med) # med is flux after applying median filter\n",
    "power_med = model.power(freq, method=\"fast\", normalization=\"psd\")\n",
    "power_med /= len(time)\n",
    "\n",
    "period_med = 1.0 / freq[np.argmax(power_med)] # Find period of median filtered data\n",
    "\n",
    "\n",
    "# FIND DIFFERENCE BETWEEN THE TWO PERIODS\n",
    "power_diff = power_ls - power_med\n",
    "period_diff = 1.0 / freq[np.argmax(power_diff)]\n",
    "\n",
    "\n",
    "# Print periods\n",
    "print(\"\\033[1m\", \"Period (Data): \", \"\\033[0m\", str(period_ls), \" days\")\n",
    "print(\"\\033[1m\", \"Period (Median Filter): \", \"\\033[0m\", str(period_med), \" days\")\n",
    "print(\"\\033[1m\", \"Period (Difference): \", \"\\033[0m\", str(period_diff), \" days\")\n",
    "\n",
    "\n",
    "\n",
    "## Plot data\n",
    "matplotlib.rcParams.update({'font.size': 16}) ## Set up plot\n",
    "matplotlib.rcParams['axes.linewidth'] = 2.0\n",
    "f_per, ax_per = plt.subplots(figsize=(14, 5))\n",
    "\n",
    "ax_per.plot(1.0 / freq, power_ls, c=\"k\", label = \"Data\")\n",
    "ax_per.plot(1.0 / freq, power_med, c=\"#00008b\", label = \"Median Filter\", alpha=0.6)\n",
    "ax_per.plot(1.0 / freq, power_diff, c=\"#8B0000\", label = \"Difference\")\n",
    "\n",
    "plt.axvline(period_ls, color=\"k\", alpha=0.5) # Add vertical lines at significant periods\n",
    "# You could do one at 2x the period too if you wanted?\n",
    "\n",
    "ax_per.set_xlabel(\"Period [d]\") # Add axis labels\n",
    "ax_per.set_ylabel(\"LS Periodogram\")\n",
    "ax_per.set_xlim(0.0, 40.0) # Set x-axis limits from 0 to 40 days\n",
    "ax_per.legend(fontsize=16,loc='upper right', framealpha=1); # Add legend\n",
    "#plt.savefig(\"Peridogram.png\", bbox_inches=\"tight\")\n",
    "\n",
    "## It'd probably be helpful to make a subplot of this figure showing just the difference, I was just lazy lol"
   ]
  },
  {
   "cell_type": "code",
   "execution_count": null,
   "id": "b910ad42",
   "metadata": {},
   "outputs": [],
   "source": []
  }
 ],
 "metadata": {
  "kernelspec": {
   "display_name": "Lightcurve Environment",
   "language": "python",
   "name": "lcenv"
  },
  "language_info": {
   "codemirror_mode": {
    "name": "ipython",
    "version": 3
   },
   "file_extension": ".py",
   "mimetype": "text/x-python",
   "name": "python",
   "nbconvert_exporter": "python",
   "pygments_lexer": "ipython3",
   "version": "3.9.7"
  }
 },
 "nbformat": 4,
 "nbformat_minor": 5
}
